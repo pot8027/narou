{
 "cells": [
  {
   "cell_type": "code",
   "execution_count": 102,
   "id": "955954e5-cefe-4740-a7cd-ca61753d4970",
   "metadata": {},
   "outputs": [],
   "source": [
    "import numpy as np\n",
    "from janome.analyzer import Analyzer\n",
    "from janome.tokenfilter import POSKeepFilter\n",
    "from sklearn.feature_extraction.text import TfidfVectorizer\n",
    "from sklearn.metrics.pairwise import cosine_similarity"
   ]
  },
  {
   "cell_type": "code",
   "execution_count": 163,
   "id": "b553e812-addc-42fe-a1ed-2a75ed976b37",
   "metadata": {},
   "outputs": [],
   "source": [
    "# アナライザーのフィルター\n",
    "token_filters = [\n",
    "    POSKeepFilter(['名詞'])  # 名詞を抽出するようにする\n",
    "]\n",
    "analyzer = Analyzer(token_filters=token_filters)\n",
    "\n",
    "'''\n",
    "文字列を形態素解析する\n",
    "    documents 文字列\n",
    "'''\n",
    "def wakachi(text):\n",
    "    result = []\n",
    "    for tok in analyzer.analyze(text):\n",
    "        result.append(tok.surface)\n",
    "    return result\n",
    "\n",
    "'''\n",
    "文字列配列をベクトル化する\n",
    "    documents 文字列配列\n",
    "'''\n",
    "def vecs_array(documents):\n",
    "    docs = np.array(documents)\n",
    "    vectorizer = TfidfVectorizer(analyzer=wakachi,binary=True,use_idf=True)\n",
    "    vecs = vectorizer.fit_transform(docs)\n",
    "    return vecs.toarray()\n",
    "\n",
    "'''\n",
    "行列の指定列をベクトル化する\n",
    "    datas           データ行列\n",
    "    x_index         基準となるデータの行番号\n",
    "    vecs_col_index  ベクトル化する列番号\n",
    "'''\n",
    "def convert_vecs_col(datas, x_index, vecs_col_index):\n",
    "    \n",
    "    # ベクトル化する文書の列取得\n",
    "    col = datas[:,col_num]\n",
    "\n",
    "    # ベクトル化\n",
    "    vecs_col = vecs_array(col)\n",
    "\n",
    "    # ベクトル同士の類似度計算\n",
    "    cs_col = np.round(cosine_similarity(vecs_col, vecs_col), 3)\n",
    "\n",
    "    # 入力値を基準とした類似度取得\n",
    "    x_vecs = cs_col[x_index]\n",
    "\n",
    "    # 文書列を類似度に入れ替え\n",
    "    datas = np.delete(datas, vecs_col_index, 1)\n",
    "    datas = np.insert(datas, vecs_col_index, x_vecs.T, 1)\n",
    "    \n",
    "    return datas"
   ]
  },
  {
   "cell_type": "code",
   "execution_count": 179,
   "id": "fec331bf-d2ba-4197-a6dd-8d7b58483ba3",
   "metadata": {},
   "outputs": [
    {
     "name": "stdout",
     "output_type": "stream",
     "text": [
      "[[0.98253971 1.         0.98969335]]\n"
     ]
    }
   ],
   "source": [
    "x_index = 1\n",
    "\n",
    "# CSVから取得したデータ\n",
    "y_array = np.array([[1, 2, \"杉野あきよし\", \"ケインズ\"], [2, 7, \"杉野アキヨシ\", \"けいんず\"], [2, 7, \"スギノあきよし\", \"KEINS\"]])\n",
    "#print(y_array)\n",
    "\n",
    "# 2列目ベクトル化\n",
    "y_array2 = convert_vecs_col(y_array, x_index, 2)\n",
    "#print(y_array2)\n",
    "\n",
    "# 3列目ベクトル化\n",
    "y_array3 = convert_vecs_col(y_array2, x_index, 3)\n",
    "#print(y_array3)\n",
    "\n",
    "# コサイン類似度計算\n",
    "x_data = np.array([y_array3[x_index]])\n",
    "cos_sim = cosine_similarity(x_data, y_array3)\n",
    "print(cos_sim)"
   ]
  }
 ],
 "metadata": {
  "kernelspec": {
   "display_name": "Python 3",
   "language": "python",
   "name": "python3"
  },
  "language_info": {
   "codemirror_mode": {
    "name": "ipython",
    "version": 3
   },
   "file_extension": ".py",
   "mimetype": "text/x-python",
   "name": "python",
   "nbconvert_exporter": "python",
   "pygments_lexer": "ipython3",
   "version": "3.9.2"
  }
 },
 "nbformat": 4,
 "nbformat_minor": 5
}
